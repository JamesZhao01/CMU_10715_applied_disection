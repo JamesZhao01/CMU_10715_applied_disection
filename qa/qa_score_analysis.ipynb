{
 "cells": [
  {
   "cell_type": "code",
   "execution_count": 74,
   "metadata": {},
   "outputs": [],
   "source": [
    "from watermark_processor import WatermarkLogitsProcessor\n",
    "from watermark_processor import WatermarkDetector\n",
    "\n",
    "from datasets import load_dataset\n",
    "\n",
    "import pickle, numpy as np, matplotlib.pyplot as plt, evaluate, pprint\n",
    "\n",
    "PATHS = [\"data/out_100_2.0.pickle\", \"data/out_100_3.0.pickle\", \"data/out_100_4.0.pickle\"]\n",
    "DELTAS = [2.0, 3.0, 4.0]"
   ]
  },
  {
   "cell_type": "markdown",
   "metadata": {},
   "source": [
    "# Z-SCORE"
   ]
  },
  {
   "cell_type": "code",
   "execution_count": 75,
   "metadata": {},
   "outputs": [
    {
     "name": "stdout",
     "output_type": "stream",
     "text": [
      "Reference Evaluation\n",
      "z, fpr, tnr\n",
      "1.0, 0.1300, 0.8700\n",
      "2.0, 0.0100, 0.9900\n",
      "3.0, 0.0000, 1.0000\n",
      "4.0, 0.0000, 1.0000\n",
      "Path: data/out_100_2.0.pickle, delta: 2.0\n",
      "z, fpr, tnr, tpr, fnr\n",
      "1.0, 0.1300, 0.8700, 0.7900, 0.2100\n",
      "2.0, 0.0100, 0.9900, 0.5900, 0.4100\n",
      "3.0, 0.0000, 1.0000, 0.3900, 0.6100\n",
      "4.0, 0.0000, 1.0000, 0.1700, 0.8300\n",
      "Path: data/out_100_3.0.pickle, delta: 3.0\n",
      "z, fpr, tnr, tpr, fnr\n",
      "1.0, 0.1000, 0.9000, 0.8800, 0.1200\n",
      "2.0, 0.0000, 1.0000, 0.7300, 0.2700\n",
      "3.0, 0.0000, 1.0000, 0.5800, 0.4200\n",
      "4.0, 0.0000, 1.0000, 0.3900, 0.6100\n",
      "Path: data/out_100_4.0.pickle, delta: 4.0\n",
      "z, fpr, tnr, tpr, fnr\n",
      "1.0, 0.1300, 0.8700, 0.9300, 0.0700\n",
      "2.0, 0.0100, 0.9900, 0.8300, 0.1700\n",
      "3.0, 0.0000, 1.0000, 0.7500, 0.2500\n",
      "4.0, 0.0000, 1.0000, 0.7000, 0.3000\n"
     ]
    }
   ],
   "source": [
    "objs = []\n",
    "for i, (path, delta) in enumerate(zip(PATHS, DELTAS)):\n",
    "  with open(path, \"rb\") as f:\n",
    "    obj = pickle.load(f)\n",
    "  objs.append(obj)\n",
    "  \n",
    "  z_score_ref = np.array([k[\"det_no_wm\"][\"z_score\"] for k in obj])\n",
    "  z_score_wm = np.array([k[\"det_wm\"][\"z_score\"] for k in obj])\n",
    "  \n",
    "  if i == 0:\n",
    "    print(f\"Reference Evaluation\")\n",
    "    print(f\"z, fpr, tnr\")\n",
    "    for z_th in [1.0, 2.0, 3.0, 4.0]:\n",
    "      fpr = np.sum(z_score_ref > z_th) / len(z_score_ref)\n",
    "      tnr = 1 - fpr\n",
    "      print(f\"{z_th}, {fpr:.4f}, {tnr:.4f}\")\n",
    "    \n",
    "  print(f\"Path: {path}, delta: {delta}\")\n",
    "  print(f\"z, fpr, tnr, tpr, fnr\")\n",
    "  for z_th in [1.0, 2.0, 3.0, 4.0]:\n",
    "    fpr = np.sum(z_score_ref > z_th) / len(z_score_ref)\n",
    "    tnr = 1 - fpr\n",
    "    tpr = np.sum(z_score_wm > z_th) / len(z_score_wm)\n",
    "    fnr = 1 - tpr\n",
    "    # print(f\"th: {z_th}, fpr: {fpr:.4f}, tnr: {tnr:.4f}, tpr: {tpr:.4f}, fnr: {fnr:.4f}\")\n",
    "    print(f\"{z_th}, {fpr:.4f}, {tnr:.4f}, {tpr:.4f}, {fnr:.4f}\")"
   ]
  },
  {
   "cell_type": "code",
   "execution_count": 87,
   "metadata": {},
   "outputs": [
    {
     "name": "stdout",
     "output_type": "stream",
     "text": [
      "from: human\n",
      "value: Detailed Instructions: In this task, you are given a context and four options. Each option is a suggested ending for the context. You should read the context and pick the best ending for the context. Please answer with \"A\", \"B\", \"C\", and \"D\". \n",
      "Problem:[header] How to size a road bike [title] Use your total height and a road bike sizing chart for a basic guideline. [step] Standing against a wall, measure your total height and record it in centimeters, as this is how road bike frames are measured. Through an online search or by borrowing a chart at a road bike store, find the bike height that is associated with your total height. <sep> (A) Use the chart to pin down the bike height onto a pctd piece of paper. This can be applied using a graphite pencil or a ruler. (B) [substeps] If you cannot find the bike height that is in your price range, you may be able to add some information to the road bike sizing chart to help you find it. [title] Take measurements of the terrain you are cycling on. (C) Use the chart to find whether you need an extra small, small, medium, large, or extra large road bike frame. [substeps] You can convert your height from inches to centimeters by multiplying it by 2.54. (D) The bike height can also be measured on a road bike scale. [title] Purchase a power tool for planning or detailing.\n",
      "Solution:\n",
      "from: gpt\n",
      "value: C\n",
      "Watermark Out\n",
      "C<|im_end|>\n",
      "Non-Watermark Out\n",
      "C<|im_end|>\n"
     ]
    }
   ],
   "source": [
    "for q in objs[0][17][\"data\"]:\n",
    "  print(f\"from: {q['from']}\")\n",
    "  print(f\"value: {q['value']}\")\n",
    "print(\"Watermark Out\")\n",
    "print(objs[0][17][\"out_wm_text\"])\n",
    "print(\"Non-Watermark Out\")\n",
    "print(objs[0][17][\"out_no_wm_text\"])"
   ]
  },
  {
   "cell_type": "markdown",
   "metadata": {},
   "source": [
    "# ROC"
   ]
  },
  {
   "cell_type": "code",
   "execution_count": 77,
   "metadata": {},
   "outputs": [],
   "source": [
    "def calculate_auc(fpr, tpr):\n",
    "  \"\"\"\n",
    "  Calculates the AUC (Area Under the Curve) from a list of false positive rates (fpr) and true positive rates (tpr).\n",
    "\n",
    "  Args:\n",
    "      fpr (list): List of false positive rates.\n",
    "      tpr (list): List of true positive rates.\n",
    "\n",
    "  Returns:\n",
    "      float: AUC value.\n",
    "  \"\"\"\n",
    "\n",
    "  # Check if the lengths of the fpr and tpr lists are the same\n",
    "  if len(fpr) != len(tpr):\n",
    "      raise ValueError(\"The lengths of the fpr and tpr lists must be the same.\")\n",
    "\n",
    "  # Calculate the area of each trapezoid\n",
    "  area = 0\n",
    "  for i in range(1, len(fpr)):\n",
    "      area += (fpr[i] - fpr[i-1]) * (tpr[i] + tpr[i-1]) / 2\n",
    "\n",
    "  # Calculate the AUC\n",
    "  auc = area\n",
    "\n",
    "  return auc"
   ]
  },
  {
   "cell_type": "code",
   "execution_count": 78,
   "metadata": {},
   "outputs": [
    {
     "data": {
      "text/plain": [
       "Text(0, 0.5, 'True Positive Rate')"
      ]
     },
     "execution_count": 78,
     "metadata": {},
     "output_type": "execute_result"
    },
    {
     "data": {
      "image/png": "[encoded data removed]",
      "text/plain": [
       "<Figure size 640x480 with 1 Axes>"
      ]
     },
     "metadata": {},
     "output_type": "display_data"
    }
   ],
   "source": [
    "def create_plot(delta, z_score_wm, z_score_ref, c = ''):\n",
    "  tpr_list, fpr_list = [], []\n",
    "  z_low = min(z_score_ref)\n",
    "  z_high = max(z_score_wm)\n",
    "  for z_th in np.arange(z_high, z_low, -0.1):\n",
    "      fpr = np.sum(z_score_ref > z_th) / len(z_score_ref)\n",
    "      fpr_list.append(fpr)\n",
    "      tpr = np.sum(z_score_wm > z_th) / len(z_score_wm)\n",
    "      tpr_list.append(tpr)\n",
    "  auc = calculate_auc(fpr_list, tpr_list)\n",
    "  plt.plot(fpr_list, tpr_list, label=f'delta = {delta}, AUC = {auc:.3f}')\n",
    "\n",
    "fig = plt.figure()\n",
    "gamma = 0.5\n",
    "for delta, obj in zip(DELTAS, objs):\n",
    "  z_score_ref = np.array([k[\"det_no_wm\"][\"z_score\"] for k in obj])\n",
    "  z_score_wm = np.array([k[\"det_wm\"][\"z_score\"] for k in obj])\n",
    "  create_plot(delta, z_score_wm, z_score_ref)\n",
    "# plot y = x\n",
    "x = np.linspace(0, 1, 100)\n",
    "y = x\n",
    "plt.plot(x, y, 'r--')\n",
    "\n",
    "plt.legend()\n",
    "plt.margins(x=0.01, y = 0.01)\n",
    "plt.xlabel(\"False Positive Rate\")\n",
    "plt.ylabel(\"True Positive Rate\")"
   ]
  },
  {
   "cell_type": "markdown",
   "metadata": {},
   "source": [
    "# BLEU / ROGUE"
   ]
  },
  {
   "cell_type": "code",
   "execution_count": 79,
   "metadata": {},
   "outputs": [],
   "source": [
    "sacrebleu = evaluate.load(\"sacrebleu\")\n",
    "rouge = evaluate.load('rouge')"
   ]
  },
  {
   "cell_type": "code",
   "execution_count": 80,
   "metadata": {},
   "outputs": [],
   "source": [
    "ref = objs[0][0][\"gold\"]\n",
    "pred_no_wm = objs[0][0][\"out_no_wm_text\"]\n",
    "pred_wm = objs[0][0][\"out_wm_text\"]"
   ]
  },
  {
   "cell_type": "code",
   "execution_count": 81,
   "metadata": {},
   "outputs": [
    {
     "name": "stdout",
     "output_type": "stream",
     "text": [
      "=== Scores: Delta=2.0 ===\n",
      "No Watermark:\n",
      "22.8867, 52.3552, 31.8885, 40.8421\n",
      "With Watermark:\n",
      "20.3290, 50.6647, 29.3214, 38.3931\n",
      "=== Scores: Delta=3.0 ===\n",
      "No Watermark:\n",
      "24.0466, 54.5473, 33.3766, 43.0234\n",
      "With Watermark:\n",
      "19.8441, 48.6623, 27.2722, 36.6383\n",
      "=== Scores: Delta=4.0 ===\n",
      "No Watermark:\n",
      "24.6943, 55.3776, 34.1090, 43.3023\n",
      "With Watermark:\n",
      "11.2578, 40.8009, 20.4021, 29.5485\n"
     ]
    }
   ],
   "source": [
    "def get_scores(pred, ref):\n",
    "  bleu_score = sacrebleu.compute(predictions=pred, references=ref)\n",
    "  rouge_score = rouge.compute(predictions=pred, references=ref)\n",
    "  print(f\"{bleu_score['score']:0.4f}, {rouge_score['rouge1'] * 100:0.4f}, {rouge_score['rouge2'] * 100:0.4f}, {rouge_score['rougeL'] * 100:0.4f}\")\n",
    "\n",
    "for obj, delta in zip(objs, DELTAS):\n",
    "  ref = [q[\"gold\"] for q in obj]\n",
    "  pred_no_wm = [q[\"out_no_wm_text\"] for q in obj]\n",
    "  pred_wm = [q[\"out_wm_text\"] for q in obj]\n",
    "  print(f\"=== Scores: Delta={delta} ===\")\n",
    "  print(f\"No Watermark:\")\n",
    "  get_scores(pred_no_wm, ref)\n",
    "  print(f\"With Watermark:\")\n",
    "  get_scores(pred_wm, ref)"
   ]
  }
 ],
 "metadata": {
  "kernelspec": {
   "display_name": "cmu_10715_applied",
   "language": "python",
   "name": "python3"
  },
  "language_info": {
   "codemirror_mode": {
    "name": "ipython",
    "version": 3
   },
   "file_extension": ".py",
   "mimetype": "text/x-python",
   "name": "python",
   "nbconvert_exporter": "python",
   "pygments_lexer": "ipython3",
   "version": "3.10.13"
  }
 },
 "nbformat": 4,
 "nbformat_minor": 2
}
